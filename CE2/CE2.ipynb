{
 "cells": [
  {
   "cell_type": "markdown",
   "metadata": {},
   "source": [
    "## Challenge Exercise 2 (CE2)\n",
    "\n",
    "### Due on 9/8/25 @ 11:55 pm EST (see Canvas Assignment)\n",
    "\n",
    "****"
   ]
  },
  {
   "attachments": {},
   "cell_type": "markdown",
   "metadata": {},
   "source": [
    "## Collaboration policy\n",
    "\n",
    "This is a group assignment. The maximum number of students per group is four. There are no existing group assignments. However, **all group members must be different from those in CE1** (i.e., there is no overlap with a previous group).\n",
    "\n",
    "Please be welcoming and kind, and invite students you may not know well (i.e., be a good classmate). If you have any questions about what is or isn't allowed, you must ask. Saying afterwards that you didn't understand or were unsure is not an acceptable excuse.\n",
    "\n",
    "In the markdown cell below, put the full name of each person in your group."
   ]
  },
  {
   "cell_type": "code",
   "execution_count": null,
   "metadata": {},
   "outputs": [],
   "source": []
  },
  {
   "cell_type": "markdown",
   "metadata": {},
   "source": [
    "### Team members\n",
    "\n",
    "1. Tanner Macpherson\n",
    "2. put fullname\n",
    "3. put fullname\n",
    "4. put fullname"
   ]
  },
  {
   "cell_type": "markdown",
   "metadata": {},
   "source": [
    "****\n",
    "## AI policy\n",
    "\n",
    "AI may not be used to generate a coding solution. Your solution must be your own work. If you have any questions about what is or isn't allowed, you must ask. Saying afterwards that you didn't understand or were unsure is not an acceptable excuse.\n",
    "\n",
    "\n"
   ]
  },
  {
   "cell_type": "markdown",
   "metadata": {},
   "source": [
    "****\n",
    "## Honor pledge\n",
    "\n",
    "To acknowledge and understand the **Collaboration and AI policies** outlined above, each team member must enter their Onyen and PID in this markdown cell.\n",
    "\n",
    "1. tmacp 730559670\n",
    "2. Onyen and PID\n",
    "3. Onyen and PID\n",
    "4. Onyen and PID"
   ]
  },
  {
   "cell_type": "markdown",
   "metadata": {},
   "source": [
    "****\n",
    "\n",
    "## Python modules\n",
    "\n",
    "All the Python modules needed to complete this CE are provided to you. \n",
    "\n",
    "<span style=\"background-color: #FFFF00\">**No other modules are authorized** and **if other modules are added points will be deducted**.</span>"
   ]
  },
  {
   "cell_type": "code",
   "execution_count": 4,
   "metadata": {},
   "outputs": [],
   "source": [
    "import numpy as np\n",
    "import matplotlib.pyplot as plt\n",
    "import pandas as pd \n",
    "import math\n",
    "import warnings\n",
    "warnings.filterwarnings('ignore')"
   ]
  },
  {
   "attachments": {},
   "cell_type": "markdown",
   "metadata": {},
   "source": [
    "****\n",
    "\n",
    "## Numerical approximations.\n",
    "\n",
    "The data points in matrix $A$ form a 2D cosine curve (shown below). Specifically, $A$ is a $500x2$ matrix where each row $i$ represents a point $P_i(x_i, y_i)$ in a Cartesian coordinate system. This data will be used to estimate the critical points, convex points, and tangents numerically.\n",
    "\n",
    "Tips:\n",
    "- This numpy <a href=\"https://numpy.org/doc/stable/user/absolute_beginners.html\">tutorial</a> may be helpful.\n",
    "- The data visualization notebook (see Canvas schedule, 8/21) may be helpful.\n",
    "- The Mathematics overview slides (see Canvas schedule) may be helpful.\n"
   ]
  },
  {
   "cell_type": "code",
   "execution_count": 5,
   "metadata": {},
   "outputs": [
    {
     "name": "stdout",
     "output_type": "stream",
     "text": [
      "A is 500 x 2 dimension matrix\n"
     ]
    }
   ],
   "source": [
    "A = np.loadtxt(\"A.csv\", delimiter=\",\")\n",
    "[m,n]=A.shape\n",
    "print( \"A is {} x {} dimension matrix\".format( m, n ) )"
   ]
  },
  {
   "cell_type": "code",
   "execution_count": 230,
   "metadata": {
    "collapsed": false,
    "jupyter": {
     "outputs_hidden": false
    }
   },
   "outputs": [
    {
     "data": {
      "image/png": "[encoded data removed]",
      "text/plain": [
       "<Figure size 640x480 with 1 Axes>"
      ]
     },
     "metadata": {},
     "output_type": "display_data"
    }
   ],
   "source": [
    "plt.plot( A[:,0], A[:,1], \"lightgrey\")\n",
    "plt.title(\"2D Cosine Curve\")\n",
    "plt.xlabel(r'$x$')\n",
    "plt.ylabel(r'$y=cos(x)$')\n",
    "plt.axis(\"equal\")\n",
    "plt.show()"
   ]
  },
  {
   "cell_type": "markdown",
   "metadata": {},
   "source": [
    "<img src=\"p1.png\" width=\"450\" style=\"float: right\"/>\n",
    "\n",
    "**P1** (5 Points). In the coding cell below, write a small program that numerically estimates the critical points. To receive full credit, your solution must create a plot that is identical to the one provided. <ins>Note</ins>: You may assume a derivative less than $0.0015$ is approximately zero."
   ]
  },
  {
   "cell_type": "code",
   "execution_count": 1,
   "metadata": {},
   "outputs": [
    {
     "ename": "NameError",
     "evalue": "name 'plt' is not defined",
     "output_type": "error",
     "traceback": [
      "\u001b[0;31m---------------------------------------------------------------------------\u001b[0m",
      "\u001b[0;31mNameError\u001b[0m                                 Traceback (most recent call last)",
      "Cell \u001b[0;32mIn[1], line 5\u001b[0m\n\u001b[1;32m      1\u001b[0m \u001b[38;5;66;03m# --------------------------------------\u001b[39;00m\n\u001b[1;32m      2\u001b[0m \u001b[38;5;66;03m# Add your P1 coding solution below.\u001b[39;00m\n\u001b[1;32m      3\u001b[0m \u001b[38;5;66;03m# --------------------------------------\u001b[39;00m\n\u001b[0;32m----> 5\u001b[0m plt\u001b[38;5;241m.\u001b[39mplot( A[:,\u001b[38;5;241m0\u001b[39m], A[:,\u001b[38;5;241m1\u001b[39m], \u001b[38;5;124m\"\u001b[39m\u001b[38;5;124mlightgrey\u001b[39m\u001b[38;5;124m\"\u001b[39m)\n\u001b[1;32m      6\u001b[0m plt\u001b[38;5;241m.\u001b[39mtitle(\u001b[38;5;124m\"\u001b[39m\u001b[38;5;124m2D Cosine Curve\u001b[39m\u001b[38;5;124m\"\u001b[39m)\n\u001b[1;32m      7\u001b[0m plt\u001b[38;5;241m.\u001b[39mxlabel(\u001b[38;5;124mr\u001b[39m\u001b[38;5;124m'\u001b[39m\u001b[38;5;124m$x$\u001b[39m\u001b[38;5;124m'\u001b[39m)\n",
      "\u001b[0;31mNameError\u001b[0m: name 'plt' is not defined"
     ]
    }
   ],
   "source": [
    "# --------------------------------------\n",
    "# Add your P1 coding solution below.\n",
    "# --------------------------------------\n",
    "\n",
    "plt.plot( A[:,0], A[:,1], \"lightgrey\")\n",
    "plt.title(\"2D Cosine Curve\")\n",
    "plt.xlabel(r'$x$')\n",
    "plt.ylabel(r'$y=cos(x)$')\n",
    "plt.axis(\"equal\")\n",
    "\n",
    "critical_x_points = []\n",
    "critical_y_points = []\n",
    "for point in A:\n",
    "    x = point[0]\n",
    "    if abs(math.sin(x)) < 0.0668:\n",
    "        critical_x_points.append(x)\n",
    "        critical_y_points.append(point[1])\n",
    "\n",
    "plt.plot(critical_x_points, critical_y_points, 'bo')\n",
    "plt.show()\n",
    "\n",
    "\n",
    "\n",
    "\n",
    "\n",
    "\n",
    "\n"
   ]
  },
  {
   "cell_type": "markdown",
   "metadata": {},
   "source": [
    "<img src=\"p2.png\" width=\"450\" style=\"float: right\"/>\n",
    "\n",
    "**P2** (5 Points). In the coding cell below, write a small program that numerically estimates the convex points. To receive full credit, your solution must create a plot that is identical to the one provided. You may assume a derivative less than $0.0015$ is approximately zero."
   ]
  },
  {
   "cell_type": "code",
   "execution_count": 193,
   "metadata": {},
   "outputs": [],
   "source": [
    "# --------------------------------------\n",
    "# Add your P2 coding solution below.\n",
    "# --------------------------------------\n",
    "\n",
    "\n",
    "\n",
    "\n",
    "\n",
    "\n",
    "\n",
    "\n"
   ]
  },
  {
   "cell_type": "markdown",
   "metadata": {},
   "source": [
    "<img src=\"p3.png\" width=\"450\" style=\"float: right\"/>\n",
    "\n",
    "**P3** (5 Points). In the coding cell below, write a small program that numerically estimates the **unit** tangent vectors (using the L2 norm) only for the **blue** points. To receive full credit, your solution must create a plot identical to the one provided. <ins>Note</ins>: The color of the tangent line is magenta."
   ]
  },
  {
   "cell_type": "code",
   "execution_count": 2,
   "metadata": {
    "collapsed": false,
    "jupyter": {
     "outputs_hidden": false
    }
   },
   "outputs": [
    {
     "ename": "NameError",
     "evalue": "name 'plt' is not defined",
     "output_type": "error",
     "traceback": [
      "\u001b[0;31m---------------------------------------------------------------------------\u001b[0m",
      "\u001b[0;31mNameError\u001b[0m                                 Traceback (most recent call last)",
      "Cell \u001b[0;32mIn[2], line 6\u001b[0m\n\u001b[1;32m      1\u001b[0m \u001b[38;5;66;03m# --------------------------------------\u001b[39;00m\n\u001b[1;32m      2\u001b[0m \u001b[38;5;66;03m# This code is provided to you.\u001b[39;00m\n\u001b[1;32m      3\u001b[0m \u001b[38;5;66;03m# Do not modify it.\u001b[39;00m\n\u001b[1;32m      4\u001b[0m \u001b[38;5;66;03m# --------------------------------------\u001b[39;00m\n\u001b[1;32m      5\u001b[0m delta\u001b[38;5;241m=\u001b[39m\u001b[38;5;241m50\u001b[39m\n\u001b[0;32m----> 6\u001b[0m plt\u001b[38;5;241m.\u001b[39mplot( A[:,\u001b[38;5;241m0\u001b[39m], A[:,\u001b[38;5;241m1\u001b[39m], \u001b[38;5;124m\"\u001b[39m\u001b[38;5;124mlightgrey\u001b[39m\u001b[38;5;124m\"\u001b[39m )\n\u001b[1;32m      7\u001b[0m plt\u001b[38;5;241m.\u001b[39mplot( A[::delta, \u001b[38;5;241m0\u001b[39m], A[::delta,\u001b[38;5;241m1\u001b[39m], \u001b[38;5;124m\"\u001b[39m\u001b[38;5;124mbo\u001b[39m\u001b[38;5;124m\"\u001b[39m )\n\u001b[1;32m      8\u001b[0m plt\u001b[38;5;241m.\u001b[39maxis(\u001b[38;5;124m\"\u001b[39m\u001b[38;5;124mequal\u001b[39m\u001b[38;5;124m\"\u001b[39m)\n",
      "\u001b[0;31mNameError\u001b[0m: name 'plt' is not defined"
     ]
    }
   ],
   "source": [
    "# --------------------------------------\n",
    "# This code is provided to you.\n",
    "# Do not modify it.\n",
    "# --------------------------------------\n",
    "delta=50\n",
    "plt.plot( A[:,0], A[:,1], \"lightgrey\" )\n",
    "plt.plot( A[::delta, 0], A[::delta,1], \"bo\" )\n",
    "plt.axis(\"equal\")\n",
    "\n",
    "# --------------------------------------\n",
    "# Add your P3 coding solution below.\n",
    "# --------------------------------------\n",
    "idxs = np.arange(0, len(A), delta)\n",
    "unit_tangents = []\n",
    "\n",
    "for x in idxs:\n",
    "    tangent = np.array([1,-math.sin(A[x][0])])\n",
    "    norm = np.linalg.norm(tangent)\n",
    "    unit_tangent = tangent / norm\n",
    "    unit_tangents.append(unit_tangent)\n",
    "\n",
    "\n",
    "for i, idx in enumerate(idxs):\n",
    "    x0, y0 = A[idx]\n",
    "    tx, ty = unit_tangents[i]\n",
    "    \n",
    "    plt.plot([x0, x0 + tx], [y0, y0 + ty], \"m-\")\n"
   ]
  },
  {
   "attachments": {},
   "cell_type": "markdown",
   "metadata": {},
   "source": [
    "****\n",
    "\n",
    "## Data standardization.\n",
    "\n",
    "The dataframe (**df**) shown below defines two features (or columns) labeled **f1** and **f2**, each with $1,000$ samples. Also shown are the histogram plots for each feature.\n",
    "\n",
    "Tips:\n",
    "- This numpy <a href=\"https://numpy.org/doc/stable/user/absolute_beginners.html\">tutorial</a> may be helpful.\n",
    "- The data visualization notebook (see Canvas schedule, 8/21) may be helpful.\n",
    "- The data manipulation notebook (see Canvas schedule, 8/21) may be helpful.\n",
    "- The Mathematics overview slides (see Canvas schedule) may be helpful.\n",
    "- The Data representation and processing slides (see Canvas schedule) may be helpful."
   ]
  },
  {
   "cell_type": "code",
   "execution_count": 234,
   "metadata": {},
   "outputs": [
    {
     "data": {
      "text/html": [
       "<div>\n",
       "<style scoped>\n",
       "    .dataframe tbody tr th:only-of-type {\n",
       "        vertical-align: middle;\n",
       "    }\n",
       "\n",
       "    .dataframe tbody tr th {\n",
       "        vertical-align: top;\n",
       "    }\n",
       "\n",
       "    .dataframe thead th {\n",
       "        text-align: right;\n",
       "    }\n",
       "</style>\n",
       "<table border=\"1\" class=\"dataframe\">\n",
       "  <thead>\n",
       "    <tr style=\"text-align: right;\">\n",
       "      <th></th>\n",
       "      <th>f1</th>\n",
       "      <th>f2</th>\n",
       "    </tr>\n",
       "  </thead>\n",
       "  <tbody>\n",
       "    <tr>\n",
       "      <th>0</th>\n",
       "      <td>-2.110000</td>\n",
       "      <td>0.130529</td>\n",
       "    </tr>\n",
       "    <tr>\n",
       "      <th>1</th>\n",
       "      <td>1.005415</td>\n",
       "      <td>2.480679</td>\n",
       "    </tr>\n",
       "    <tr>\n",
       "      <th>2</th>\n",
       "      <td>1.410057</td>\n",
       "      <td>3.321763</td>\n",
       "    </tr>\n",
       "    <tr>\n",
       "      <th>3</th>\n",
       "      <td>6.259839</td>\n",
       "      <td>2.880217</td>\n",
       "    </tr>\n",
       "    <tr>\n",
       "      <th>4</th>\n",
       "      <td>5.100076</td>\n",
       "      <td>1.930848</td>\n",
       "    </tr>\n",
       "    <tr>\n",
       "      <th>...</th>\n",
       "      <td>...</td>\n",
       "      <td>...</td>\n",
       "    </tr>\n",
       "    <tr>\n",
       "      <th>995</th>\n",
       "      <td>2.380652</td>\n",
       "      <td>0.767333</td>\n",
       "    </tr>\n",
       "    <tr>\n",
       "      <th>996</th>\n",
       "      <td>-0.757000</td>\n",
       "      <td>1.108744</td>\n",
       "    </tr>\n",
       "    <tr>\n",
       "      <th>997</th>\n",
       "      <td>1.668813</td>\n",
       "      <td>2.938973</td>\n",
       "    </tr>\n",
       "    <tr>\n",
       "      <th>998</th>\n",
       "      <td>2.400584</td>\n",
       "      <td>1.796796</td>\n",
       "    </tr>\n",
       "    <tr>\n",
       "      <th>999</th>\n",
       "      <td>1.545294</td>\n",
       "      <td>2.879992</td>\n",
       "    </tr>\n",
       "  </tbody>\n",
       "</table>\n",
       "<p>1000 rows × 2 columns</p>\n",
       "</div>"
      ],
      "text/plain": [
       "           f1        f2\n",
       "0   -2.110000  0.130529\n",
       "1    1.005415  2.480679\n",
       "2    1.410057  3.321763\n",
       "3    6.259839  2.880217\n",
       "4    5.100076  1.930848\n",
       "..        ...       ...\n",
       "995  2.380652  0.767333\n",
       "996 -0.757000  1.108744\n",
       "997  1.668813  2.938973\n",
       "998  2.400584  1.796796\n",
       "999  1.545294  2.879992\n",
       "\n",
       "[1000 rows x 2 columns]"
      ]
     },
     "execution_count": 234,
     "metadata": {},
     "output_type": "execute_result"
    }
   ],
   "source": [
    "df = pd.read_csv(\"G.csv\")\n",
    "df"
   ]
  },
  {
   "cell_type": "code",
   "execution_count": 235,
   "metadata": {},
   "outputs": [
    {
     "data": {
      "image/png": "[encoded data removed]",
      "text/plain": [
       "<Figure size 1000x500 with 2 Axes>"
      ]
     },
     "metadata": {},
     "output_type": "display_data"
    }
   ],
   "source": [
    "plt.figure( figsize=(10,5) )\n",
    "plt.subplot(121)\n",
    "plt.hist( \"f1\", bins=50, density=True, facecolor=\"blue\", alpha=0.15, data=df )\n",
    "plt.xlabel( \"Values\")\n",
    "plt.ylabel( \"Occurances\" )\n",
    "plt.title(\"f1 Data\")\n",
    "plt.subplot(122)\n",
    "plt.hist( \"f2\", bins=50, density=True, facecolor=\"green\", alpha=0.15, data=df )\n",
    "plt.xlabel( \"Values\")\n",
    "plt.ylabel( \"Occurances\" )\n",
    "plt.title(\"f2 Data\")\n",
    "plt.show()"
   ]
  },
  {
   "attachments": {},
   "cell_type": "markdown",
   "metadata": {},
   "source": [
    "<img src=\"p4.png\" width=\"450\" style=\"float: right\"/>\n",
    "\n",
    "**P4** (5 Points). In the coding cell below, write a small program that:\n",
    "- Fit the **f1** values to a normal distribution and overlay them on the histogram plot.\n",
    "- Standardize the **f1** values using the z-score and display them in a histogram plot.\n",
    "- Fit the z-score **f1** values to a normal distribution and overlay them on the z-score histogram plot.\n",
    "\n",
    "To receive full credit, your solution must create a plot identical to the one provided. \n",
    "\n",
    "<ins>Note(s)</ins>: \n",
    "- The number of histogram bins is $50$.\n",
    "- The line color for the non-standardized distribution is **blue**.\n",
    "- The line color for the standardized distribution is **red**.\n",
    "- The x-axis for both distributions begin at $-10$ and end at $10$ (inclusive)."
   ]
  },
  {
   "cell_type": "code",
   "execution_count": null,
   "metadata": {},
   "outputs": [],
   "source": [
    "# --------------------------------------\n",
    "# This code is provided to you.\n",
    "# Do not modify it.\n",
    "# --------------------------------------\n",
    "\n",
    "x = np.linspace(-10,10,1000)\n",
    "\n",
    "# --------------------------------------\n",
    "# Add your P4 coding solution below.\n",
    "# --------------------------------------\n",
    "\n",
    "f1_mean = df[\"f1\"].mean()\n",
    "f1_std = df[\"f1\"].std()\n",
    "\n",
    "coef = 1 / (f1_std * np.sqrt(2 * np.pi))\n",
    "exp = np.exp( -((x - f1_mean)**2 / (2 * f1_std**2)) )\n",
    "\n",
    "\n",
    "\n",
    "\n",
    "\n"
   ]
  },
  {
   "cell_type": "markdown",
   "metadata": {},
   "source": [
    "<img src=\"p5.png\" width=\"450\" style=\"float: right\"/>\n",
    "\n",
    "**P5** (5 Points). In the coding cell below, write a small program that:\n",
    "- Fit the **f2** values to a normal distribution and overlay them on the histogram plot.\n",
    "- Standardize the **f2** values using the z-score and display them in a histogram plot.\n",
    "- Fit the z-score **f2** values to a normal distribution and overlay them on the z-score histogram plot.\n",
    "\n",
    "To receive full credit, your solution must create a plot identical to the one provided. \n",
    "\n",
    "<ins>Note(s)</ins>: \n",
    "- The number of histogram bins is $50$.\n",
    "- The line color for the non-standardized distribution is **blue**.\n",
    "- The line color for the standardized distribution is **red**.\n",
    "- The x-axis for both distributions begin at $-10$ and end at $10$ (inclusive).\n",
    "    "
   ]
  },
  {
   "cell_type": "code",
   "execution_count": 237,
   "metadata": {},
   "outputs": [],
   "source": [
    "# --------------------------------------\n",
    "# This code is provided to you.\n",
    "# Do not modify it.\n",
    "# --------------------------------------\n",
    "\n",
    "x = np.linspace(-10,10,1000)\n",
    "\n",
    "# --------------------------------------\n",
    "# Add your P5 coding solution below.\n",
    "# --------------------------------------\n",
    "\n",
    "\n",
    "\n",
    "\n",
    "\n",
    "\n",
    "\n",
    "\n"
   ]
  },
  {
   "cell_type": "code",
   "execution_count": null,
   "metadata": {},
   "outputs": [],
   "source": []
  }
 ],
 "metadata": {
  "kernelspec": {
   "display_name": "Python [conda env:base] *",
   "language": "python",
   "name": "conda-base-py"
  },
  "language_info": {
   "codemirror_mode": {
    "name": "ipython",
    "version": 3
   },
   "file_extension": ".py",
   "mimetype": "text/x-python",
   "name": "python",
   "nbconvert_exporter": "python",
   "pygments_lexer": "ipython3",
   "version": "3.13.5"
  }
 },
 "nbformat": 4,
 "nbformat_minor": 4
}
